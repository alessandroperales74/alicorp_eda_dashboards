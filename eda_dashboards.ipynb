{
 "cells": [
  {
   "cell_type": "markdown",
   "id": "d190b8c7",
   "metadata": {},
   "source": [
    "# Análisis Exploratorio de Datos: EDA Dashboards"
   ]
  },
  {
   "cell_type": "markdown",
   "id": "e4a5663a",
   "metadata": {},
   "source": [
    "## Tabla de Contenidos"
   ]
  },
  {
   "cell_type": "markdown",
   "id": "1c04b22c",
   "metadata": {},
   "source": [
    "1. [Objetivo](#1-objetivo)\n",
    "\n",
    "2. [Consideraciones](#2-consideraciones)\n",
    "\n",
    "3. [Análisis Exploratorio de Datos](#3-análisis-exploratorio)\n",
    "\n",
    "3.1. [Descripción del Dataset](#31-descripción-del-dataset)\n",
    "\n",
    "3.2. [Análisis por Gerencia](#32-análisis-por-gerencia)\n",
    "\n",
    "4. [Propuesta de Cálculo de Usabilidad](#4-propuesta-de-cálculo-de-usabilidad)"
   ]
  },
  {
   "cell_type": "markdown",
   "id": "135de17d",
   "metadata": {},
   "source": [
    "## 1. Objetivo"
   ]
  },
  {
   "cell_type": "markdown",
   "id": "4a8eab6a",
   "metadata": {},
   "source": [
    "El objetivo de este análisis es poder definir los umbrales de uso para determinar el nivel de usabilidad de los dashboards publicados en el Centro de Servicios Compartidos de Alicorp"
   ]
  },
  {
   "cell_type": "markdown",
   "id": "c8927e0e",
   "metadata": {},
   "source": [
    "## 2. Consideraciones"
   ]
  },
  {
   "cell_type": "markdown",
   "id": "a5498c0f",
   "metadata": {},
   "source": [
    "- Para este análisis se están tomando los dashboards publicados en Power BI Viewer de las Gerencias del CSC (Administración, Tesorería Operativa y PTP, Record to Report (RTR), Excelencia Operativa, Créditos BO y Cobranzas y Gerencia de Servicios al Colaborador)\n",
    "- Se está incluyendo el análisis a los dashboards publicados de la Gerencia de Operación Tributaria (Actualmente fuera del CSC)\n",
    "- Se toman todas las vistas de los primeros seis (6) meses del 2025\n",
    "- Se excluyen de las vistas a los usuarios del equipo de Analytics CSC (Diana Acosta, Katherine Bustamante, Angelo Perales y Juan José Palomino) debido a que han sido usuarios constructores en una gran parte de los dashboards, lo que puede distorsionar el uso real.\n",
    "- Sin embargo, sí se consideran las vistas de Analytics CSC en los Dashboards publicados en el Workspace **CSC_WORK_ANALYTICS**.\n",
    "- Actualmente, según el Activity Report (https://bi.alicorp.com.pe/reports/457), contamos con 59 dashboards publicados en Power BI Viewer. No obstante, el dashboard con ID 767 - **CSC - ADM - Proyectos de infraestructura** (https://bi.alicorp.com.pe/reports/767) no cuenta con vistas que no sean de usuarios que no sean de Analytics CSC, por lo que no se toma en consideración."
   ]
  },
  {
   "cell_type": "markdown",
   "id": "1260fb01",
   "metadata": {},
   "source": [
    "## 3. Análisis Exploratorio"
   ]
  },
  {
   "cell_type": "code",
   "execution_count": 86,
   "id": "df9a5a4a",
   "metadata": {},
   "outputs": [],
   "source": [
    "import os\n",
    "import math\n",
    "import pandas as pd\n",
    "import numpy as np\n",
    "import matplotlib.pyplot as plt \n",
    "import scorecardpy as sc\n",
    "import warnings \n",
    "warnings.filterwarnings(\"ignore\")"
   ]
  },
  {
   "cell_type": "code",
   "execution_count": 2,
   "id": "89b3b4e5",
   "metadata": {},
   "outputs": [],
   "source": [
    "ruta_actual = os.getcwd()\n",
    "ruta_archivo = os.path.join(ruta_actual,'data','dashboards_csc.xlsx')"
   ]
  },
  {
   "cell_type": "markdown",
   "id": "ccd2e004",
   "metadata": {},
   "source": [
    "### 3.1. Descripción del Dataset"
   ]
  },
  {
   "cell_type": "code",
   "execution_count": 4,
   "id": "79f61ab1",
   "metadata": {},
   "outputs": [
    {
     "data": {
      "text/html": [
       "<div>\n",
       "<style scoped>\n",
       "    .dataframe tbody tr th:only-of-type {\n",
       "        vertical-align: middle;\n",
       "    }\n",
       "\n",
       "    .dataframe tbody tr th {\n",
       "        vertical-align: top;\n",
       "    }\n",
       "\n",
       "    .dataframe thead th {\n",
       "        text-align: right;\n",
       "    }\n",
       "</style>\n",
       "<table border=\"1\" class=\"dataframe\">\n",
       "  <thead>\n",
       "    <tr style=\"text-align: right;\">\n",
       "      <th></th>\n",
       "      <th>Gerencia</th>\n",
       "      <th>Dashboard</th>\n",
       "      <th>Es Activo</th>\n",
       "      <th>Descripcion</th>\n",
       "      <th>Usuario</th>\n",
       "      <th>Usuarios</th>\n",
       "      <th>Usuarios Activos</th>\n",
       "      <th>% Usuarios Activos</th>\n",
       "      <th>Promedio Mensual de Vistas</th>\n",
       "      <th>Frecuencia</th>\n",
       "      <th>...</th>\n",
       "      <th>GerenciaResponsable</th>\n",
       "      <th>nombre_workspace</th>\n",
       "      <th>ID_PowerBIViewer</th>\n",
       "      <th>enero</th>\n",
       "      <th>febrero</th>\n",
       "      <th>marzo</th>\n",
       "      <th>abril</th>\n",
       "      <th>mayo</th>\n",
       "      <th>junio</th>\n",
       "      <th>julio</th>\n",
       "    </tr>\n",
       "  </thead>\n",
       "  <tbody>\n",
       "    <tr>\n",
       "      <th>0</th>\n",
       "      <td>ADM</td>\n",
       "      <td>CSC_ADM_Servicio de Taxis</td>\n",
       "      <td>1.0</td>\n",
       "      <td>Dashboard que brinda detalles del servicio y g...</td>\n",
       "      <td>NaN</td>\n",
       "      <td>338</td>\n",
       "      <td>75</td>\n",
       "      <td>0.22</td>\n",
       "      <td>26</td>\n",
       "      <td>Mensual</td>\n",
       "      <td>...</td>\n",
       "      <td>Gerencia Corporativa de Administración</td>\n",
       "      <td>CSC_ADM_Workpace</td>\n",
       "      <td>437</td>\n",
       "      <td>41.0</td>\n",
       "      <td>85.0</td>\n",
       "      <td>37.0</td>\n",
       "      <td>14.0</td>\n",
       "      <td>32.0</td>\n",
       "      <td>31</td>\n",
       "      <td>5</td>\n",
       "    </tr>\n",
       "    <tr>\n",
       "      <th>1</th>\n",
       "      <td>ADM</td>\n",
       "      <td>CSC_Administración</td>\n",
       "      <td>1.0</td>\n",
       "      <td>Dsashboard utilizado para realizar seguimiento...</td>\n",
       "      <td>Juan Palomino</td>\n",
       "      <td>15</td>\n",
       "      <td>7</td>\n",
       "      <td>0.47</td>\n",
       "      <td>6</td>\n",
       "      <td>Mensual</td>\n",
       "      <td>...</td>\n",
       "      <td>Gerencia Corporativa de Administración</td>\n",
       "      <td>CSC KPIs SLA Indicadores</td>\n",
       "      <td>469</td>\n",
       "      <td>11.0</td>\n",
       "      <td>4.0</td>\n",
       "      <td>12.0</td>\n",
       "      <td>1.0</td>\n",
       "      <td>3.0</td>\n",
       "      <td>3</td>\n",
       "      <td>1</td>\n",
       "    </tr>\n",
       "    <tr>\n",
       "      <th>2</th>\n",
       "      <td>ADM</td>\n",
       "      <td>CSC_ADM_Control presupuestal</td>\n",
       "      <td>1.0</td>\n",
       "      <td>Alcance: Visibilidad del presupuesto, comprome...</td>\n",
       "      <td>Juan Palomino</td>\n",
       "      <td>21</td>\n",
       "      <td>11</td>\n",
       "      <td>0.52</td>\n",
       "      <td>19</td>\n",
       "      <td>Mensual</td>\n",
       "      <td>...</td>\n",
       "      <td>Gerencia Corporativa de Administración</td>\n",
       "      <td>CSC_ADM_Workpace</td>\n",
       "      <td>504</td>\n",
       "      <td>45.0</td>\n",
       "      <td>4.0</td>\n",
       "      <td>4.0</td>\n",
       "      <td>45.0</td>\n",
       "      <td>39.0</td>\n",
       "      <td>9</td>\n",
       "      <td>13</td>\n",
       "    </tr>\n",
       "    <tr>\n",
       "      <th>3</th>\n",
       "      <td>ADM</td>\n",
       "      <td>CSC_SLA_Administración</td>\n",
       "      <td>1.0</td>\n",
       "      <td>Dashboard indicadores procesos  y Productividad</td>\n",
       "      <td>NaN</td>\n",
       "      <td>15</td>\n",
       "      <td>10</td>\n",
       "      <td>0.67</td>\n",
       "      <td>37</td>\n",
       "      <td>Mensual</td>\n",
       "      <td>...</td>\n",
       "      <td>Gerencia Corporativa de Administración</td>\n",
       "      <td>CSC KPIs SLA Indicadores</td>\n",
       "      <td>556</td>\n",
       "      <td>29.0</td>\n",
       "      <td>8.0</td>\n",
       "      <td>54.0</td>\n",
       "      <td>33.0</td>\n",
       "      <td>89.0</td>\n",
       "      <td>69</td>\n",
       "      <td>33</td>\n",
       "    </tr>\n",
       "    <tr>\n",
       "      <th>4</th>\n",
       "      <td>ADM</td>\n",
       "      <td>CSC_EXC_Predios</td>\n",
       "      <td>1.0</td>\n",
       "      <td>NaN</td>\n",
       "      <td>NaN</td>\n",
       "      <td>7</td>\n",
       "      <td>4</td>\n",
       "      <td>0.57</td>\n",
       "      <td>6</td>\n",
       "      <td>Mensual</td>\n",
       "      <td>...</td>\n",
       "      <td>Gerencia Corporativa de Administración</td>\n",
       "      <td>CSC_ADM_Workpace</td>\n",
       "      <td>646</td>\n",
       "      <td>7.0</td>\n",
       "      <td>1.0</td>\n",
       "      <td>2.0</td>\n",
       "      <td>3.0</td>\n",
       "      <td>1.0</td>\n",
       "      <td>16</td>\n",
       "      <td>11</td>\n",
       "    </tr>\n",
       "  </tbody>\n",
       "</table>\n",
       "<p>5 rows × 28 columns</p>\n",
       "</div>"
      ],
      "text/plain": [
       "  Gerencia                     Dashboard  Es Activo  \\\n",
       "0      ADM     CSC_ADM_Servicio de Taxis        1.0   \n",
       "1      ADM            CSC_Administración        1.0   \n",
       "2      ADM  CSC_ADM_Control presupuestal        1.0   \n",
       "3      ADM        CSC_SLA_Administración        1.0   \n",
       "4      ADM               CSC_EXC_Predios        1.0   \n",
       "\n",
       "                                         Descripcion        Usuario  Usuarios  \\\n",
       "0  Dashboard que brinda detalles del servicio y g...            NaN       338   \n",
       "1  Dsashboard utilizado para realizar seguimiento...  Juan Palomino        15   \n",
       "2  Alcance: Visibilidad del presupuesto, comprome...  Juan Palomino        21   \n",
       "3    Dashboard indicadores procesos  y Productividad            NaN        15   \n",
       "4                                                NaN            NaN         7   \n",
       "\n",
       "   Usuarios Activos  % Usuarios Activos  Promedio Mensual de Vistas  \\\n",
       "0                75                0.22                          26   \n",
       "1                 7                0.47                           6   \n",
       "2                11                0.52                          19   \n",
       "3                10                0.67                          37   \n",
       "4                 4                0.57                           6   \n",
       "\n",
       "  Frecuencia  ...                     GerenciaResponsable  \\\n",
       "0    Mensual  ...  Gerencia Corporativa de Administración   \n",
       "1    Mensual  ...  Gerencia Corporativa de Administración   \n",
       "2    Mensual  ...  Gerencia Corporativa de Administración   \n",
       "3    Mensual  ...  Gerencia Corporativa de Administración   \n",
       "4    Mensual  ...  Gerencia Corporativa de Administración   \n",
       "\n",
       "           nombre_workspace  ID_PowerBIViewer  enero  febrero  marzo  abril  \\\n",
       "0          CSC_ADM_Workpace               437   41.0     85.0   37.0   14.0   \n",
       "1  CSC KPIs SLA Indicadores               469   11.0      4.0   12.0    1.0   \n",
       "2          CSC_ADM_Workpace               504   45.0      4.0    4.0   45.0   \n",
       "3  CSC KPIs SLA Indicadores               556   29.0      8.0   54.0   33.0   \n",
       "4          CSC_ADM_Workpace               646    7.0      1.0    2.0    3.0   \n",
       "\n",
       "   mayo junio julio  \n",
       "0  32.0    31     5  \n",
       "1   3.0     3     1  \n",
       "2  39.0     9    13  \n",
       "3  89.0    69    33  \n",
       "4   1.0    16    11  \n",
       "\n",
       "[5 rows x 28 columns]"
      ]
     },
     "execution_count": 4,
     "metadata": {},
     "output_type": "execute_result"
    }
   ],
   "source": [
    "df = pd.read_excel(ruta_archivo)\n",
    "df.head()"
   ]
  },
  {
   "cell_type": "code",
   "execution_count": 5,
   "id": "3b3e6cf8",
   "metadata": {},
   "outputs": [
    {
     "data": {
      "text/plain": [
       "(58, 28)"
      ]
     },
     "execution_count": 5,
     "metadata": {},
     "output_type": "execute_result"
    }
   ],
   "source": [
    "# Tamaño del Dataset\n",
    "df.shape"
   ]
  },
  {
   "cell_type": "markdown",
   "id": "497f7775",
   "metadata": {},
   "source": [
    "### 3.2. Análisis por Gerencia"
   ]
  },
  {
   "cell_type": "code",
   "execution_count": 12,
   "id": "572a3330",
   "metadata": {},
   "outputs": [
    {
     "data": {
      "image/png": "[encoded data removed]",
      "text/plain": [
       "<Figure size 1200x600 with 1 Axes>"
      ]
     },
     "metadata": {},
     "output_type": "display_data"
    }
   ],
   "source": [
    "# Agrupar total de Dashboards por Gerencia en orden descendente\n",
    "df_por_gerencia = df.groupby(['Gerencia']).size().sort_values(ascending=False)\n",
    "\n",
    "# Crear figura y eje\n",
    "fig, ax = plt.subplots(figsize=(12, 6))\n",
    "\n",
    "# Hacer gráfico de barras y guardar el objeto gráfico\n",
    "bars = df_por_gerencia.plot(kind='bar', ax=ax)\n",
    "\n",
    "# Añadir los números encima de cada barra\n",
    "for i, value in enumerate(df_por_gerencia.values):\n",
    "    ax.text(i, value + 0.5, str(value), ha='center', va='bottom', fontsize=12)\n",
    "\n",
    "# Ajustes del gráfico\n",
    "ax.set_title('Dashboards por Gerencia')\n",
    "ax.set_ylabel('Cantidad')\n",
    "ax.set_xlabel('Gerencia')\n",
    "plt.xticks(rotation=45)\n",
    "plt.tight_layout()\n",
    "plt.show()"
   ]
  },
  {
   "cell_type": "markdown",
   "id": "67771292",
   "metadata": {},
   "source": [
    "### 3.3. Vistas por Gerencia"
   ]
  },
  {
   "cell_type": "code",
   "execution_count": 14,
   "id": "1e8ffcbe",
   "metadata": {},
   "outputs": [],
   "source": [
    "meses = ['enero','febrero','marzo','abril','mayo','junio']\n",
    "\n",
    "# Suma ignorando NaN\n",
    "df['total_vistas_1_sem_2025'] = df[meses].sum(axis=1, skipna=True).round(0)\n",
    "\n",
    "# Promedio de vistas de los primeros 6 meses del 2025. No se cuentan los valores NaN\n",
    "df['prom_vistas_1_sem_2025'] = (df['total_vistas_1_sem_2025'] / df[meses].notna().sum(axis=1)).round(0)"
   ]
  },
  {
   "cell_type": "code",
   "execution_count": null,
   "id": "0b859b23",
   "metadata": {},
   "outputs": [
    {
     "data": {
      "image/png": "[encoded data removed]",
      "text/plain": [
       "<Figure size 1200x600 with 1 Axes>"
      ]
     },
     "metadata": {},
     "output_type": "display_data"
    }
   ],
   "source": [
    "# Agrupar total de Dashboards por Gerencia en orden descendente\n",
    "df_por_vistas = df.groupby(['Gerencia'])['prom_vistas_1_sem_2025'].mean().sort_values(ascending=False)\n",
    "\n",
    "# Crear figura y eje\n",
    "fig, ax = plt.subplots(figsize=(12, 6))\n",
    "\n",
    "# Hacer gráfico de barras y guardar el objeto gráfico\n",
    "bars = df_por_vistas.plot(kind='bar', ax=ax, color='skyblue')\n",
    "\n",
    "# Añadir los números encima de cada barra\n",
    "for i, value in enumerate(df_por_vistas.values):\n",
    "    ax.text(i, value + 0.5, str(round(float(value),0)), ha='center', va='bottom', fontsize=12)\n",
    "\n",
    "# Ajustes del gráfico\n",
    "ax.set_title('Promedio de Vistas en el 1er Semestre 2025 por Gerencia')\n",
    "ax.set_ylabel('Vistas')\n",
    "ax.set_xlabel('Gerencia')\n",
    "plt.xticks(rotation=45)\n",
    "plt.tight_layout()\n",
    "plt.show()"
   ]
  },
  {
   "cell_type": "markdown",
   "id": "c3f3b5c7",
   "metadata": {},
   "source": [
    "### 3.4. Análisis por Frecuencia de Actualización"
   ]
  },
  {
   "cell_type": "code",
   "execution_count": 56,
   "id": "29172625",
   "metadata": {},
   "outputs": [
    {
     "data": {
      "image/png": "[encoded data removed]",
      "text/plain": [
       "<Figure size 1200x600 with 1 Axes>"
      ]
     },
     "metadata": {},
     "output_type": "display_data"
    }
   ],
   "source": [
    "# Agrupar total de Dashboards por Gerencia en orden descendente\n",
    "df_por_frecuencia = df.groupby(['Frecuencia']).size().sort_values(ascending=False)\n",
    "\n",
    "# Crear figura y eje\n",
    "fig, ax = plt.subplots(figsize=(12, 6))\n",
    "\n",
    "# Hacer gráfico de barras y guardar el objeto gráfico\n",
    "bars = df_por_frecuencia.plot(kind='bar', ax=ax, color='salmon')\n",
    "\n",
    "# Añadir los números encima de cada barra\n",
    "for i, value in enumerate(df_por_frecuencia.values):\n",
    "    ax.text(i, value + 0.5, str(int(value)), ha='center', va='bottom', fontsize=12)\n",
    "\n",
    "# Ajustes del gráfico\n",
    "ax.set_title('Total de Dashboards por Frecuencia de Actualización')\n",
    "ax.set_ylabel('Vistas')\n",
    "ax.set_xlabel('Frecuencia de Actualización')\n",
    "plt.xticks(rotation=45)\n",
    "plt.tight_layout()\n",
    "plt.show()"
   ]
  },
  {
   "cell_type": "markdown",
   "id": "9751116f",
   "metadata": {},
   "source": [
    "### Vistas por Frecuencia de Actualización"
   ]
  },
  {
   "cell_type": "code",
   "execution_count": 55,
   "id": "e25aee16",
   "metadata": {},
   "outputs": [
    {
     "data": {
      "image/png": "[encoded data removed]",
      "text/plain": [
       "<Figure size 1200x600 with 1 Axes>"
      ]
     },
     "metadata": {},
     "output_type": "display_data"
    }
   ],
   "source": [
    "# Agrupar total de Dashboards por Gerencia en orden descendente\n",
    "df_vistas_por_frecuencia = df.groupby(['Frecuencia'])['prom_vistas_1_sem_2025'].mean().sort_values(ascending=False)\n",
    "\n",
    "# Crear figura y eje\n",
    "fig, ax = plt.subplots(figsize=(12, 6))\n",
    "\n",
    "# Hacer gráfico de barras y guardar el objeto gráfico\n",
    "bars = df_vistas_por_frecuencia.plot(kind='bar', ax=ax, color='salmon')\n",
    "\n",
    "# Añadir los números encima de cada barra\n",
    "for i, value in enumerate(df_vistas_por_frecuencia.values):\n",
    "    ax.text(i, value + 0.5, str(int(value)), ha='center', va='bottom', fontsize=12)\n",
    "\n",
    "# Ajustes del gráfico\n",
    "ax.set_title('Promedio de Vistas (1er Semestre 2025) por Frecuencia de Actualización')\n",
    "ax.set_ylabel('Vistas')\n",
    "ax.set_xlabel('Frecuencia de Actualización')\n",
    "plt.xticks(rotation=45)\n",
    "plt.tight_layout()\n",
    "plt.show()"
   ]
  },
  {
   "cell_type": "markdown",
   "id": "62d802f9",
   "metadata": {},
   "source": [
    "En esta gráfica podemos notar que:\n",
    "- Los Dashboards diarios tienen el mayor promedio de visualizaciones. Esto se puede explicar debido a que, a un mayor ritmo de actualización, los usuarios están al más al tanto de las actualizaciones.\n",
    "- Por otro lado, los dashboards a demanda son los menos vistos (2 vistas en promedio en 6 meses). Esto se puede explicar a que la responsabilidad de actualización depende enteramente de la Gerencia."
   ]
  },
  {
   "cell_type": "markdown",
   "id": "c7caab32",
   "metadata": {},
   "source": [
    "### 3.5. Análisis de Vistas"
   ]
  },
  {
   "cell_type": "code",
   "execution_count": 24,
   "id": "eb03b7d9",
   "metadata": {},
   "outputs": [
    {
     "data": {
      "text/plain": [
       "0    40.0\n",
       "1     6.0\n",
       "2    24.0\n",
       "3    47.0\n",
       "4     5.0\n",
       "Name: prom_vistas_1_sem_2025, dtype: float64"
      ]
     },
     "execution_count": 24,
     "metadata": {},
     "output_type": "execute_result"
    }
   ],
   "source": [
    "total_vistas = df['prom_vistas_1_sem_2025']\n",
    "total_vistas[:5]"
   ]
  },
  {
   "cell_type": "code",
   "execution_count": 26,
   "id": "11416835",
   "metadata": {},
   "outputs": [
    {
     "name": "stdout",
     "output_type": "stream",
     "text": [
      "Mediana del Promedio de Vistas 2025: 4.5\n"
     ]
    }
   ],
   "source": [
    "# Ver la mediana de vistas\n",
    "mediana_vistas = np.median(total_vistas)\n",
    "\n",
    "print('Mediana del Promedio de Vistas 2025:',mediana_vistas)"
   ]
  },
  {
   "cell_type": "code",
   "execution_count": 31,
   "id": "4b820c70",
   "metadata": {},
   "outputs": [
    {
     "data": {
      "image/png": "[encoded data removed]",
      "text/plain": [
       "<Figure size 1200x600 with 1 Axes>"
      ]
     },
     "metadata": {},
     "output_type": "display_data"
    }
   ],
   "source": [
    "plt.figure(figsize=(12,6))\n",
    "plt.hist(total_vistas,bins=50)\n",
    "\n",
    "# Añadir mediana\n",
    "plt.axvline(x=mediana_vistas,color='red',linestyle='--',linewidth=2,label=f'Mediana = {mediana_vistas:.1f}')\n",
    "\n",
    "# Estética\n",
    "plt.title('Histograma del Promedio de Vistas del Primer Semestre 2025')\n",
    "plt.xlabel('Vistas')\n",
    "plt.ylabel('Frecuencia')\n",
    "plt.legend()\n",
    "plt.tight_layout()\n",
    "plt.show()\n"
   ]
  },
  {
   "cell_type": "code",
   "execution_count": 33,
   "id": "aa7b52ee",
   "metadata": {},
   "outputs": [
    {
     "name": "stdout",
     "output_type": "stream",
     "text": [
      "Total de Dashboards por debajo de la Mediana: 29\n",
      "% de Dashboards por debajo de la Mediana: 0.5\n"
     ]
    }
   ],
   "source": [
    "total_dashboards_debajo_mediana = len(total_vistas[total_vistas>mediana_vistas])\n",
    "\n",
    "print('Total de Dashboards por debajo de la Mediana:',total_dashboards_debajo_mediana)\n",
    "print('% de Dashboards por debajo de la Mediana:',total_dashboards_debajo_mediana/len(total_vistas))"
   ]
  },
  {
   "cell_type": "code",
   "execution_count": 42,
   "id": "f7b1ca49",
   "metadata": {},
   "outputs": [
    {
     "data": {
      "image/png": "[encoded data removed]",
      "text/plain": [
       "<Figure size 640x480 with 1 Axes>"
      ]
     },
     "metadata": {},
     "output_type": "display_data"
    }
   ],
   "source": [
    "plt.boxplot(total_vistas,vert=False)\n",
    "plt.title('Boxplot de Promedio de Vistas por Dashboards')\n",
    "plt.tight_layout()\n",
    "plt.show()"
   ]
  },
  {
   "cell_type": "code",
   "execution_count": 45,
   "id": "64acc809",
   "metadata": {},
   "outputs": [
    {
     "name": "stdout",
     "output_type": "stream",
     "text": [
      "IQR: 15.0\n",
      "Lower Whisker: -21.5\n",
      "Upper Whisker: 38.5\n",
      "                               Dashboard  prom_vistas_1_sem_2025\n",
      "44  CSC_PTP Gestión del Proceso OC-OS TI                   136.0\n",
      "3                 CSC_SLA_Administración                    47.0\n",
      "0              CSC_ADM_Servicio de Taxis                    40.0\n"
     ]
    }
   ],
   "source": [
    "# Selección de 1er y 3er cuartil\n",
    "Q1 = total_vistas.quantile(0.25)\n",
    "Q3 = total_vistas.quantile(0.75)\n",
    "\n",
    "# Rango Intercuartil\n",
    "IQR = Q3 - Q1\n",
    "\n",
    "# Definir whiskers\n",
    "lower_whisker = Q1 - 1.5 * IQR\n",
    "upper_whisker = Q3 + 1.5 * IQR\n",
    "\n",
    "print('IQR:',IQR)\n",
    "print('Lower Whisker:',lower_whisker)\n",
    "print('Upper Whisker:',upper_whisker)\n",
    "\n",
    "# Calcular valores Outliers\n",
    "outliers = total_vistas[(total_vistas<lower_whisker) | (total_vistas>upper_whisker)]\n",
    "\n",
    "# Identificar Dashboards con número de vistas atípicas\n",
    "print(df[['Dashboard','prom_vistas_1_sem_2025']][df['prom_vistas_1_sem_2025'].isin(outliers)].sort_values(by='prom_vistas_1_sem_2025',ascending=False))"
   ]
  },
  {
   "cell_type": "markdown",
   "id": "28710302",
   "metadata": {},
   "source": [
    "### 4. Propuesta de Cálculo de Usabilidad"
   ]
  },
  {
   "cell_type": "markdown",
   "id": "aa61bf58",
   "metadata": {},
   "source": [
    "$$\n",
    "{\\text{Umbral de Usabilidad}} = {\\text{Total de Usuarios con Acceso}} \\times {\\text{Factor de Frecuencia}} \\times 0.10\n",
    "$$ \n",
    "\n",
    "Donde:\n",
    "- ${\\text{Total de Usuarios con Acceso}}$: Es el número de usuarios que tienen acceso de visualización al Dashboard publicado en Power BI Viewer\n",
    "\n",
    "- ${\\text{Factor de Frecuencia}}$: Es un coeficiente que va a variar en función a la frecuencia de actualización del Dashboard. Este factor nos ayuda a comparar las distintas frecuencias de manera uniforme. \n",
    "\n",
    "- $0.10$: Es una constante que nos ayuda a definir un umbral como un porcentaje del número de vistas.\n"
   ]
  },
  {
   "cell_type": "code",
   "execution_count": 57,
   "id": "492a9828",
   "metadata": {},
   "outputs": [
    {
     "data": {
      "text/plain": [
       "array(['Mensual', 'Semanal', 'Diaria', 'A demanda'], dtype=object)"
      ]
     },
     "execution_count": 57,
     "metadata": {},
     "output_type": "execute_result"
    }
   ],
   "source": [
    "df['Frecuencia'].unique()"
   ]
  },
  {
   "cell_type": "code",
   "execution_count": 58,
   "id": "d99518f2",
   "metadata": {},
   "outputs": [
    {
     "data": {
      "text/plain": [
       "0.08333333333333333"
      ]
     },
     "execution_count": 58,
     "metadata": {},
     "output_type": "execute_result"
    }
   ],
   "source": [
    "1/12"
   ]
  },
  {
   "cell_type": "code",
   "execution_count": 87,
   "id": "04f6e02d",
   "metadata": {},
   "outputs": [],
   "source": [
    "dict_frecuencia = {\n",
    "    'Mensual': 1,\n",
    "    'Semanal': 4, # 4 semanas en un mes\n",
    "    'A demanda': 1, # Se va a calcular como mensual\n",
    "    'Diaria': 22, # Solo se van a contar días hábiles\n",
    "    'Semestral': 0.5, # 1/6\n",
    "    'Trimestral': 0.33, # 1/3\n",
    "    'Anual': 0.08 # 1/12\n",
    "}\n",
    "\n",
    "def umbral_usabilidad(total_usuarios,frecuencia,coef=0.10):\n",
    "\n",
    "    \"\"\"\n",
    "    Función para determinar el umbral de usabilidad por dashboards.\n",
    "    Args:\n",
    "    - Total Usuarios\n",
    "    - Frecuencia de Actualización\n",
    "    - Coeficiente\n",
    "    \"\"\"\n",
    "\n",
    "    # Calcular para definir el total de vistas de los últimos 6 meses\n",
    "    factor_frecuencia = dict_frecuencia[frecuencia] * 6\n",
    "\n",
    "    return round(math.ceil(coef * total_usuarios) * factor_frecuencia,0)\n"
   ]
  },
  {
   "cell_type": "code",
   "execution_count": 88,
   "id": "544ae227",
   "metadata": {},
   "outputs": [
    {
     "data": {
      "text/html": [
       "<div>\n",
       "<style scoped>\n",
       "    .dataframe tbody tr th:only-of-type {\n",
       "        vertical-align: middle;\n",
       "    }\n",
       "\n",
       "    .dataframe tbody tr th {\n",
       "        vertical-align: top;\n",
       "    }\n",
       "\n",
       "    .dataframe thead th {\n",
       "        text-align: right;\n",
       "    }\n",
       "</style>\n",
       "<table border=\"1\" class=\"dataframe\">\n",
       "  <thead>\n",
       "    <tr style=\"text-align: right;\">\n",
       "      <th></th>\n",
       "      <th>Dashboard</th>\n",
       "      <th>Usuarios</th>\n",
       "      <th>Frecuencia</th>\n",
       "      <th>total_vistas_1_sem_2025</th>\n",
       "      <th>umbral_vistas</th>\n",
       "      <th>es_activo</th>\n",
       "    </tr>\n",
       "  </thead>\n",
       "  <tbody>\n",
       "    <tr>\n",
       "      <th>44</th>\n",
       "      <td>CSC_PTP Gestión del Proceso OC-OS TI</td>\n",
       "      <td>141</td>\n",
       "      <td>Diaria</td>\n",
       "      <td>815.0</td>\n",
       "      <td>1980</td>\n",
       "      <td>0</td>\n",
       "    </tr>\n",
       "    <tr>\n",
       "      <th>3</th>\n",
       "      <td>CSC_SLA_Administración</td>\n",
       "      <td>15</td>\n",
       "      <td>Mensual</td>\n",
       "      <td>282.0</td>\n",
       "      <td>12</td>\n",
       "      <td>1</td>\n",
       "    </tr>\n",
       "    <tr>\n",
       "      <th>0</th>\n",
       "      <td>CSC_ADM_Servicio de Taxis</td>\n",
       "      <td>338</td>\n",
       "      <td>Mensual</td>\n",
       "      <td>240.0</td>\n",
       "      <td>204</td>\n",
       "      <td>1</td>\n",
       "    </tr>\n",
       "    <tr>\n",
       "      <th>45</th>\n",
       "      <td>CSC_PTP Control de Liquidación de Transportes</td>\n",
       "      <td>39</td>\n",
       "      <td>Mensual</td>\n",
       "      <td>227.0</td>\n",
       "      <td>24</td>\n",
       "      <td>1</td>\n",
       "    </tr>\n",
       "    <tr>\n",
       "      <th>31</th>\n",
       "      <td>CSC_SLA_Servicios al Colaborador</td>\n",
       "      <td>39</td>\n",
       "      <td>Mensual</td>\n",
       "      <td>185.0</td>\n",
       "      <td>24</td>\n",
       "      <td>1</td>\n",
       "    </tr>\n",
       "    <tr>\n",
       "      <th>32</th>\n",
       "      <td>CSC_SLA_Servicios al Colaborador v4 (Vacaciones)</td>\n",
       "      <td>49</td>\n",
       "      <td>Diaria</td>\n",
       "      <td>178.0</td>\n",
       "      <td>660</td>\n",
       "      <td>0</td>\n",
       "    </tr>\n",
       "    <tr>\n",
       "      <th>43</th>\n",
       "      <td>CSC_PTP Gestión de Creación de OC-OS - TI</td>\n",
       "      <td>113</td>\n",
       "      <td>Mensual</td>\n",
       "      <td>174.0</td>\n",
       "      <td>72</td>\n",
       "      <td>1</td>\n",
       "    </tr>\n",
       "    <tr>\n",
       "      <th>51</th>\n",
       "      <td>CSC_SLA_RTR</td>\n",
       "      <td>52</td>\n",
       "      <td>Mensual</td>\n",
       "      <td>147.0</td>\n",
       "      <td>36</td>\n",
       "      <td>1</td>\n",
       "    </tr>\n",
       "    <tr>\n",
       "      <th>2</th>\n",
       "      <td>CSC_ADM_Control presupuestal</td>\n",
       "      <td>21</td>\n",
       "      <td>Mensual</td>\n",
       "      <td>146.0</td>\n",
       "      <td>18</td>\n",
       "      <td>1</td>\n",
       "    </tr>\n",
       "    <tr>\n",
       "      <th>7</th>\n",
       "      <td>CSC_TES_Saldos a favor</td>\n",
       "      <td>136</td>\n",
       "      <td>Semanal</td>\n",
       "      <td>131.0</td>\n",
       "      <td>336</td>\n",
       "      <td>0</td>\n",
       "    </tr>\n",
       "    <tr>\n",
       "      <th>33</th>\n",
       "      <td>CSC_GSC_Incidentes</td>\n",
       "      <td>24</td>\n",
       "      <td>Diaria</td>\n",
       "      <td>126.0</td>\n",
       "      <td>396</td>\n",
       "      <td>0</td>\n",
       "    </tr>\n",
       "    <tr>\n",
       "      <th>47</th>\n",
       "      <td>CSC_PTP_Dashboard Homologación de Proveedores</td>\n",
       "      <td>388</td>\n",
       "      <td>Diaria</td>\n",
       "      <td>122.0</td>\n",
       "      <td>5148</td>\n",
       "      <td>0</td>\n",
       "    </tr>\n",
       "    <tr>\n",
       "      <th>12</th>\n",
       "      <td>CSC_CRE_Reporte de Compensaciones</td>\n",
       "      <td>16</td>\n",
       "      <td>Semanal</td>\n",
       "      <td>116.0</td>\n",
       "      <td>48</td>\n",
       "      <td>1</td>\n",
       "    </tr>\n",
       "    <tr>\n",
       "      <th>10</th>\n",
       "      <td>CSC_SLA_Créditos BO y Cobranzas</td>\n",
       "      <td>15</td>\n",
       "      <td>Mensual</td>\n",
       "      <td>105.0</td>\n",
       "      <td>12</td>\n",
       "      <td>1</td>\n",
       "    </tr>\n",
       "    <tr>\n",
       "      <th>21</th>\n",
       "      <td>CSC_EXC_Encuesta de satisfaccion</td>\n",
       "      <td>12</td>\n",
       "      <td>Diaria</td>\n",
       "      <td>96.0</td>\n",
       "      <td>264</td>\n",
       "      <td>0</td>\n",
       "    </tr>\n",
       "    <tr>\n",
       "      <th>38</th>\n",
       "      <td>CSC_EXC_Dashboard - Dias de pago</td>\n",
       "      <td>82</td>\n",
       "      <td>Mensual</td>\n",
       "      <td>95.0</td>\n",
       "      <td>54</td>\n",
       "      <td>1</td>\n",
       "    </tr>\n",
       "    <tr>\n",
       "      <th>42</th>\n",
       "      <td>CSC_PTP KPI Ciclo de Vida</td>\n",
       "      <td>28</td>\n",
       "      <td>Mensual</td>\n",
       "      <td>88.0</td>\n",
       "      <td>18</td>\n",
       "      <td>1</td>\n",
       "    </tr>\n",
       "    <tr>\n",
       "      <th>22</th>\n",
       "      <td>Inventario de Dashboards Contraloría y CSC</td>\n",
       "      <td>20</td>\n",
       "      <td>Mensual</td>\n",
       "      <td>78.0</td>\n",
       "      <td>12</td>\n",
       "      <td>1</td>\n",
       "    </tr>\n",
       "    <tr>\n",
       "      <th>46</th>\n",
       "      <td>CSC_SLA_Tesorería Operativa y P2P</td>\n",
       "      <td>18</td>\n",
       "      <td>Mensual</td>\n",
       "      <td>70.0</td>\n",
       "      <td>12</td>\n",
       "      <td>1</td>\n",
       "    </tr>\n",
       "    <tr>\n",
       "      <th>35</th>\n",
       "      <td>CSC_Cuentas por Pagar</td>\n",
       "      <td>89</td>\n",
       "      <td>Mensual</td>\n",
       "      <td>66.0</td>\n",
       "      <td>54</td>\n",
       "      <td>1</td>\n",
       "    </tr>\n",
       "    <tr>\n",
       "      <th>52</th>\n",
       "      <td>CSC_EXC_Activos Fijos</td>\n",
       "      <td>10</td>\n",
       "      <td>Mensual</td>\n",
       "      <td>48.0</td>\n",
       "      <td>6</td>\n",
       "      <td>1</td>\n",
       "    </tr>\n",
       "    <tr>\n",
       "      <th>41</th>\n",
       "      <td>CSC_PTP_KPI Dias por Pagar</td>\n",
       "      <td>40</td>\n",
       "      <td>Mensual</td>\n",
       "      <td>47.0</td>\n",
       "      <td>24</td>\n",
       "      <td>1</td>\n",
       "    </tr>\n",
       "    <tr>\n",
       "      <th>24</th>\n",
       "      <td>Backlog de Iniciativas</td>\n",
       "      <td>9</td>\n",
       "      <td>Mensual</td>\n",
       "      <td>47.0</td>\n",
       "      <td>6</td>\n",
       "      <td>1</td>\n",
       "    </tr>\n",
       "    <tr>\n",
       "      <th>1</th>\n",
       "      <td>CSC_Administración</td>\n",
       "      <td>15</td>\n",
       "      <td>Mensual</td>\n",
       "      <td>34.0</td>\n",
       "      <td>12</td>\n",
       "      <td>1</td>\n",
       "    </tr>\n",
       "    <tr>\n",
       "      <th>23</th>\n",
       "      <td>CSC_Botones Panel Control v2</td>\n",
       "      <td>12</td>\n",
       "      <td>Mensual</td>\n",
       "      <td>34.0</td>\n",
       "      <td>12</td>\n",
       "      <td>1</td>\n",
       "    </tr>\n",
       "  </tbody>\n",
       "</table>\n",
       "</div>"
      ],
      "text/plain": [
       "                                           Dashboard  Usuarios Frecuencia  \\\n",
       "44              CSC_PTP Gestión del Proceso OC-OS TI       141     Diaria   \n",
       "3                             CSC_SLA_Administración        15    Mensual   \n",
       "0                          CSC_ADM_Servicio de Taxis       338    Mensual   \n",
       "45     CSC_PTP Control de Liquidación de Transportes        39    Mensual   \n",
       "31                  CSC_SLA_Servicios al Colaborador        39    Mensual   \n",
       "32  CSC_SLA_Servicios al Colaborador v4 (Vacaciones)        49     Diaria   \n",
       "43         CSC_PTP Gestión de Creación de OC-OS - TI       113    Mensual   \n",
       "51                                       CSC_SLA_RTR        52    Mensual   \n",
       "2                       CSC_ADM_Control presupuestal        21    Mensual   \n",
       "7                             CSC_TES_Saldos a favor       136    Semanal   \n",
       "33                                CSC_GSC_Incidentes        24     Diaria   \n",
       "47     CSC_PTP_Dashboard Homologación de Proveedores       388     Diaria   \n",
       "12                 CSC_CRE_Reporte de Compensaciones        16    Semanal   \n",
       "10                   CSC_SLA_Créditos BO y Cobranzas        15    Mensual   \n",
       "21                  CSC_EXC_Encuesta de satisfaccion        12     Diaria   \n",
       "38                  CSC_EXC_Dashboard - Dias de pago        82    Mensual   \n",
       "42                         CSC_PTP KPI Ciclo de Vida        28    Mensual   \n",
       "22        Inventario de Dashboards Contraloría y CSC        20    Mensual   \n",
       "46                 CSC_SLA_Tesorería Operativa y P2P        18    Mensual   \n",
       "35                             CSC_Cuentas por Pagar        89    Mensual   \n",
       "52                             CSC_EXC_Activos Fijos        10    Mensual   \n",
       "41                        CSC_PTP_KPI Dias por Pagar        40    Mensual   \n",
       "24                            Backlog de Iniciativas         9    Mensual   \n",
       "1                                 CSC_Administración        15    Mensual   \n",
       "23                      CSC_Botones Panel Control v2        12    Mensual   \n",
       "\n",
       "    total_vistas_1_sem_2025  umbral_vistas  es_activo  \n",
       "44                    815.0           1980          0  \n",
       "3                     282.0             12          1  \n",
       "0                     240.0            204          1  \n",
       "45                    227.0             24          1  \n",
       "31                    185.0             24          1  \n",
       "32                    178.0            660          0  \n",
       "43                    174.0             72          1  \n",
       "51                    147.0             36          1  \n",
       "2                     146.0             18          1  \n",
       "7                     131.0            336          0  \n",
       "33                    126.0            396          0  \n",
       "47                    122.0           5148          0  \n",
       "12                    116.0             48          1  \n",
       "10                    105.0             12          1  \n",
       "21                     96.0            264          0  \n",
       "38                     95.0             54          1  \n",
       "42                     88.0             18          1  \n",
       "22                     78.0             12          1  \n",
       "46                     70.0             12          1  \n",
       "35                     66.0             54          1  \n",
       "52                     48.0              6          1  \n",
       "41                     47.0             24          1  \n",
       "24                     47.0              6          1  \n",
       "1                      34.0             12          1  \n",
       "23                     34.0             12          1  "
      ]
     },
     "execution_count": 88,
     "metadata": {},
     "output_type": "execute_result"
    }
   ],
   "source": [
    "# Aplicar función de umbral de vistas\n",
    "df['umbral_vistas'] = df.apply(lambda row: umbral_usabilidad(total_usuarios=row['Usuarios'],\n",
    "                                                             frecuencia=row['Frecuencia']),\n",
    "                                                             axis=1)\n",
    "\n",
    "# Añadir flag de \"es activo\" siempre y cuando el total de vistas sea mayor o igual al umbral seleccionado\n",
    "df['es_activo'] = np.where(df['total_vistas_1_sem_2025'] >= df['umbral_vistas'],1,0)\n",
    "\n",
    "df[['Dashboard','Usuarios','Frecuencia','total_vistas_1_sem_2025','umbral_vistas','es_activo']].sort_values('total_vistas_1_sem_2025',ascending=False).head(25)"
   ]
  },
  {
   "cell_type": "code",
   "execution_count": 1,
   "id": "9284d3bf",
   "metadata": {},
   "outputs": [
    {
     "ename": "NameError",
     "evalue": "name 'umbral_usabilidad' is not defined",
     "output_type": "error",
     "traceback": [
      "\u001b[1;31m---------------------------------------------------------------------------\u001b[0m",
      "\u001b[1;31mNameError\u001b[0m                                 Traceback (most recent call last)",
      "Cell \u001b[1;32mIn[1], line 3\u001b[0m\n\u001b[0;32m      1\u001b[0m \u001b[38;5;241m141\u001b[39m \u001b[38;5;241m*\u001b[39m \u001b[38;5;241m0.05\u001b[39m \u001b[38;5;241m*\u001b[39m \u001b[38;5;241m22\u001b[39m\n\u001b[1;32m----> 3\u001b[0m \u001b[43mumbral_usabilidad\u001b[49m(total_usuarios\u001b[38;5;241m=\u001b[39m\u001b[38;5;241m141\u001b[39m,frecuencia\u001b[38;5;241m=\u001b[39m\u001b[38;5;124m'\u001b[39m\u001b[38;5;124mDiaria\u001b[39m\u001b[38;5;124m'\u001b[39m,coef\u001b[38;5;241m=\u001b[39m\u001b[38;5;241m0.1\u001b[39m)\n",
      "\u001b[1;31mNameError\u001b[0m: name 'umbral_usabilidad' is not defined"
     ]
    }
   ],
   "source": [
    "141 * 0.05 * 22\n",
    "\n",
    "umbral_usabilidad(total_usuarios=141,frecuencia='Diaria',coef=0.1)"
   ]
  }
 ],
 "metadata": {
  "kernelspec": {
   "display_name": "Python 3",
   "language": "python",
   "name": "python3"
  },
  "language_info": {
   "codemirror_mode": {
    "name": "ipython",
    "version": 3
   },
   "file_extension": ".py",
   "mimetype": "text/x-python",
   "name": "python",
   "nbconvert_exporter": "python",
   "pygments_lexer": "ipython3",
   "version": "3.10.11"
  }
 },
 "nbformat": 4,
 "nbformat_minor": 5
}
